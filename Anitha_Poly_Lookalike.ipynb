{
  "nbformat": 4,
  "nbformat_minor": 0,
  "metadata": {
    "colab": {
      "provenance": []
    },
    "kernelspec": {
      "name": "python3",
      "display_name": "Python 3"
    },
    "language_info": {
      "name": "python"
    }
  },
  "cells": [
    {
      "cell_type": "code",
      "source": [
        "import pandas as pd\n",
        "\n",
        "# Load datasets\n",
        "customers = pd.read_csv(\"Customers.csv\")\n",
        "transactions = pd.read_csv(\"Transactions.csv\")\n",
        "products = pd.read_csv(\"Products.csv\")\n",
        "\n",
        "# Merge transactions with products to get product details\n",
        "merged_data = transactions.merge(products, on=\"ProductID\", how=\"left\")\n",
        "\n",
        "# Merge with customers to get customer details\n",
        "merged_data = merged_data.merge(customers, on=\"CustomerID\", how=\"left\")\n",
        "\n",
        "# Preview data\n",
        "print(merged_data.head())\n"
      ],
      "metadata": {
        "colab": {
          "base_uri": "https://localhost:8080/"
        },
        "id": "S_jdQayKxzov",
        "outputId": "8f1fc820-980b-4da0-d052-b230aa77b1f1"
      },
      "execution_count": null,
      "outputs": [
        {
          "output_type": "stream",
          "name": "stdout",
          "text": [
            "  TransactionID CustomerID ProductID      TransactionDate  Quantity  \\\n",
            "0        T00001      C0199      P067  2024-08-25 12:38:23         1   \n",
            "1        T00112      C0146      P067  2024-05-27 22:23:54         1   \n",
            "2        T00166      C0127      P067  2024-04-25 07:38:55         1   \n",
            "3        T00272      C0087      P067  2024-03-26 22:55:37         2   \n",
            "4        T00363      C0070      P067  2024-03-21 15:10:10         3   \n",
            "\n",
            "   TotalValue  Price_x                      ProductName     Category  Price_y  \\\n",
            "0      300.68   300.68  ComfortLiving Bluetooth Speaker  Electronics   300.68   \n",
            "1      300.68   300.68  ComfortLiving Bluetooth Speaker  Electronics   300.68   \n",
            "2      300.68   300.68  ComfortLiving Bluetooth Speaker  Electronics   300.68   \n",
            "3      601.36   300.68  ComfortLiving Bluetooth Speaker  Electronics   300.68   \n",
            "4      902.04   300.68  ComfortLiving Bluetooth Speaker  Electronics   300.68   \n",
            "\n",
            "      CustomerName         Region  SignupDate  \n",
            "0   Andrea Jenkins         Europe  2022-12-03  \n",
            "1  Brittany Harvey           Asia  2024-09-04  \n",
            "2  Kathryn Stevens         Europe  2024-04-04  \n",
            "3  Travis Campbell  South America  2024-04-11  \n",
            "4    Timothy Perez         Europe  2022-03-15  \n"
          ]
        }
      ]
    },
    {
      "cell_type": "code",
      "source": [
        "# Total spending per customer\n",
        "customer_spending = merged_data.groupby(\"CustomerID\")[\"TotalValue\"].sum().rename(\"TotalSpending\")\n",
        "\n",
        "# Purchase frequency\n",
        "purchase_frequency = merged_data.groupby(\"CustomerID\")[\"TransactionID\"].nunique().rename(\"PurchaseFrequency\")\n",
        "\n",
        "# Most purchased category per customer\n",
        "top_category = merged_data.groupby([\"CustomerID\", \"Category\"])[\"Quantity\"].sum().reset_index()\n",
        "top_category = top_category.loc[top_category.groupby(\"CustomerID\")[\"Quantity\"].idxmax(), [\"CustomerID\", \"Category\"]].set_index(\"CustomerID\")\n",
        "\n",
        "# Average spending per transaction\n",
        "avg_spending = (customer_spending / purchase_frequency).rename(\"AvgSpending\")\n",
        "\n",
        "# Merge all features into a single DataFrame\n",
        "customer_features = pd.concat([customer_spending, purchase_frequency, avg_spending, top_category], axis=1).reset_index()\n",
        "\n",
        "print(customer_features.head())\n"
      ],
      "metadata": {
        "colab": {
          "base_uri": "https://localhost:8080/"
        },
        "id": "nx1S5Ac01g-S",
        "outputId": "4a066b53-3201-43a9-d182-2a66616c136c"
      },
      "execution_count": null,
      "outputs": [
        {
          "output_type": "stream",
          "name": "stdout",
          "text": [
            "  CustomerID  TotalSpending  PurchaseFrequency  AvgSpending     Category\n",
            "0      C0001        3354.52                  5      670.904  Electronics\n",
            "1      C0002        1862.74                  4      465.685   Home Decor\n",
            "2      C0003        2725.38                  4      681.345   Home Decor\n",
            "3      C0004        5354.88                  8      669.360   Home Decor\n",
            "4      C0005        2034.24                  3      678.080  Electronics\n"
          ]
        }
      ]
    },
    {
      "cell_type": "code",
      "source": [
        "customer_features = pd.get_dummies(customer_features, columns=[\"Category\"])\n",
        "print(customer_features.head())\n"
      ],
      "metadata": {
        "colab": {
          "base_uri": "https://localhost:8080/"
        },
        "id": "iq_xoA3f1lsg",
        "outputId": "0fd68e12-a2ee-4ddc-a7ca-8abae72df1b4"
      },
      "execution_count": null,
      "outputs": [
        {
          "output_type": "stream",
          "name": "stdout",
          "text": [
            "  CustomerID  TotalSpending  PurchaseFrequency  AvgSpending  Category_Books  \\\n",
            "0      C0001        3354.52                  5      670.904           False   \n",
            "1      C0002        1862.74                  4      465.685           False   \n",
            "2      C0003        2725.38                  4      681.345           False   \n",
            "3      C0004        5354.88                  8      669.360           False   \n",
            "4      C0005        2034.24                  3      678.080           False   \n",
            "\n",
            "   Category_Clothing  Category_Electronics  Category_Home Decor  \n",
            "0              False                  True                False  \n",
            "1              False                 False                 True  \n",
            "2              False                 False                 True  \n",
            "3              False                 False                 True  \n",
            "4              False                  True                False  \n"
          ]
        }
      ]
    },
    {
      "cell_type": "code",
      "source": [
        "from sklearn.metrics.pairwise import cosine_similarity\n",
        "\n",
        "# Drop CustomerID column before similarity calculation\n",
        "feature_matrix = customer_features.drop(\"CustomerID\", axis=1)\n",
        "\n",
        "# Compute similarity matrix\n",
        "similarity_matrix = cosine_similarity(feature_matrix)\n",
        "\n",
        "# Convert to DataFrame for easier access\n",
        "similarity_df = pd.DataFrame(similarity_matrix, index=customer_features[\"CustomerID\"], columns=customer_features[\"CustomerID\"])\n",
        "\n",
        "# Preview similarity matrix\n",
        "print(similarity_df.head())\n"
      ],
      "metadata": {
        "colab": {
          "base_uri": "https://localhost:8080/"
        },
        "id": "20ylJyGW191M",
        "outputId": "9614c3b1-bcf4-4254-b112-24ab93637db5"
      },
      "execution_count": null,
      "outputs": [
        {
          "output_type": "stream",
          "name": "stdout",
          "text": [
            "CustomerID     C0001     C0002     C0003     C0004     C0005     C0006  \\\n",
            "CustomerID                                                               \n",
            "C0001       1.000000  0.998868  0.998868  0.997334  0.992278  0.998868   \n",
            "C0002       0.998868  1.000000  1.000000  0.992734  0.997054  0.999999   \n",
            "C0003       0.998868  1.000000  1.000000  0.992734  0.997054  1.000000   \n",
            "C0004       0.997334  0.992734  0.992734  1.000000  0.980581  0.992734   \n",
            "C0005       0.992278  0.997054  0.997054  0.980581  1.000000  0.997054   \n",
            "\n",
            "CustomerID     C0007     C0008     C0009     C0010  ...     C0191     C0192  \\\n",
            "CustomerID                                          ...                       \n",
            "C0001       0.992278  0.995228  0.992276  0.998868  ...  1.000000  0.998868   \n",
            "C0002       0.997054  0.989461  0.997053  1.000000  ...  0.998868  1.000000   \n",
            "C0003       0.997054  0.989461  0.997052  0.999999  ...  0.998868  1.000000   \n",
            "C0004       0.980581  0.999695  0.980579  0.992733  ...  0.997334  0.992734   \n",
            "C0005       1.000000  0.975441  0.999998  0.997054  ...  0.992278  0.997054   \n",
            "\n",
            "CustomerID     C0193     C0194     C0195     C0196     C0197     C0198  \\\n",
            "CustomerID                                                               \n",
            "C0001       0.998868  0.998460  0.999480  0.998868  0.992278  0.964763   \n",
            "C0002       0.999999  0.994692  0.996815  0.999999  0.997054  0.976187   \n",
            "C0003       1.000000  0.994692  0.996815  1.000000  0.997054  0.976186   \n",
            "C0004       0.992734  0.999846  0.999168  0.992734  0.980581  0.942990   \n",
            "C0005       0.997054  0.983870  0.987763  0.997054  1.000000  0.989949   \n",
            "\n",
            "CustomerID     C0199     C0200  \n",
            "CustomerID                      \n",
            "C0001       0.998868  1.000000  \n",
            "C0002       1.000000  0.998867  \n",
            "C0003       1.000000  0.998868  \n",
            "C0004       0.992734  0.997334  \n",
            "C0005       0.997054  0.992278  \n",
            "\n",
            "[5 rows x 199 columns]\n"
          ]
        }
      ]
    },
    {
      "cell_type": "code",
      "source": [
        "# Get the first 20 customers\n",
        "first_20_customers = customer_features[\"CustomerID\"][:20]\n",
        "\n",
        "# Create lookalike dictionary\n",
        "lookalike_dict = {}\n",
        "\n",
        "for cust_id in first_20_customers:\n",
        "    # Get the top 3 most similar customers (excluding the customer itself)\n",
        "    similar_customers = similarity_df[cust_id].sort_values(ascending=False).iloc[1:4]\n",
        "\n",
        "    # Store in dictionary\n",
        "    lookalike_dict[cust_id] = list(zip(similar_customers.index, similar_customers.values))\n",
        "\n",
        "# Convert dictionary to DataFrame\n",
        "lookalike_df = pd.DataFrame(lookalike_dict.items(), columns=[\"CustomerID\", \"Lookalikes\"])\n",
        "print(lookalike_df.head())\n"
      ],
      "metadata": {
        "colab": {
          "base_uri": "https://localhost:8080/"
        },
        "id": "yiksvJzP2AcW",
        "outputId": "3e17c6cc-407b-41b1-853e-3bbb26acd067"
      },
      "execution_count": null,
      "outputs": [
        {
          "output_type": "stream",
          "name": "stdout",
          "text": [
            "  CustomerID                                         Lookalikes\n",
            "0      C0001  [(C0072, 0.9999999844471962), (C0190, 0.999999...\n",
            "1      C0002  [(C0199, 0.9999999920068625), (C0025, 0.999999...\n",
            "2      C0003  [(C0178, 0.9999999999597963), (C0133, 0.999999...\n",
            "3      C0004  [(C0113, 0.9999999858020151), (C0021, 0.999999...\n",
            "4      C0005  [(C0197, 0.999999996740546), (C0120, 0.9999999...\n"
          ]
        }
      ]
    },
    {
      "cell_type": "code",
      "source": [
        "# Save as Lookalike.csv\n",
        "lookalike_df.to_csv(\"Lookalike.csv\", index=False)\n",
        "print(\"Lookalike.csv has been created successfully!\")\n"
      ],
      "metadata": {
        "colab": {
          "base_uri": "https://localhost:8080/"
        },
        "id": "tF-at0FI2D-e",
        "outputId": "ccd3c0fc-9cbb-4c5e-cf58-25e63827f2d4"
      },
      "execution_count": null,
      "outputs": [
        {
          "output_type": "stream",
          "name": "stdout",
          "text": [
            "Lookalike.csv has been created successfully!\n"
          ]
        }
      ]
    }
  ]
}